{
  "nbformat": 4,
  "nbformat_minor": 0,
  "metadata": {
    "colab": {
      "provenance": []
    },
    "kernelspec": {
      "name": "python3",
      "display_name": "Python 3"
    },
    "language_info": {
      "name": "python"
    }
  },
  "cells": [
    {
      "cell_type": "code",
      "execution_count": null,
      "metadata": {
        "id": "JksrdYBhw6EE"
      },
      "outputs": [],
      "source": [
        "# Lab Exercise - 1\n",
        "\n",
        "# Implementing Stacks using Arrays\n",
        "\n",
        "class StackArrays:\n",
        "\n",
        "    # Constructor for StackArrays class\n",
        "    def __init__(self):\n",
        "        # your code here\n",
        "        self.myList = []\n",
        "\n",
        "\n",
        "    # Push: Add an element to the top of the stack\n",
        "    def push(self, element):\n",
        "        # your code here\n",
        "        self.myList.append(element)\n",
        "\n",
        "\n",
        "    # Pop: Remove the topmost element in the stack and remove it\n",
        "    def pop(self):\n",
        "        # your code here\n",
        "        if(self.isEmpty()):\n",
        "          return None\n",
        "        popElement = self.myList[-1]\n",
        "        self.myList = self.myList[:-1]\n",
        "        return popElement\n",
        "\n",
        "\n",
        "    # Returns the size of the stack\n",
        "    def size(self):\n",
        "        # your code here\n",
        "        return len(self.myList)\n",
        "\n",
        "    # Return the element at the top of the stack without removing it\n",
        "    def top(self):\n",
        "        # your code here\n",
        "        if(self.isEmpty()):\n",
        "          return None\n",
        "        return self.myList[-1]\n",
        "\n",
        "    # Returns True if stack is empty, False if not\n",
        "    def isEmpty(self):\n",
        "        # your code here\n",
        "        if(len(self.myList)):\n",
        "          return False\n",
        "        else:\n",
        "          return True\n",
        "\n",
        "if __name__ == '__main__':\n",
        "  stackArray = StackArrays()"
      ]
    }
  ]
}