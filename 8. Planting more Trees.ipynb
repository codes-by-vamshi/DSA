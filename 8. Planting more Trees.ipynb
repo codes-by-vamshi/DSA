{
  "cells": [
    {
      "cell_type": "markdown",
      "metadata": {
        "id": "05-RMaN5IaKv"
      },
      "source": [
        "# **Consecutive parent-child numbers**\n",
        "\n",
        "Given the root of a Binary tree, return the number of parent-child pairs which are consecutive numbers such that *parent = child - 1*.\n",
        "\n",
        "\n",
        "Example :\n",
        "\n",
        "\n",
        "    Input:\n",
        "\n",
        "         4\n",
        "        / \\\n",
        "       8   5\n",
        "      /  \\\n",
        "     9   77\n",
        "\n",
        "\n",
        "    Output: 2\n",
        "\n",
        "    Explanation : There are only 2 pairs of parent-child which are consecutive numbers.\n",
        "    Tha pairs are (4, 5) and (8, 9)"
      ]
    },
    {
      "cell_type": "code",
      "execution_count": null,
      "metadata": {
        "id": "7CRhe4Qbslxx"
      },
      "outputs": [],
      "source": [
        "# Consecutive parent-child numbers in a binary tree\n",
        "\n",
        "class Node:\n",
        "  def __init__(self, x):\n",
        "    self.val = x\n",
        "    self.left = None\n",
        "    self.right = None\n",
        "\n",
        "# Write this function to return the number of parent-child pairs\n",
        "# which are consecutive numbers\n",
        "\n",
        "# Comment out pass and write the code here\n",
        "def consecutiveNodes(root):\n",
        "  if(root == None):\n",
        "    return 0\n",
        "  else:\n",
        "    c = 0\n",
        "    if(root.left and root.val == root.left.val - 1):\n",
        "      c+=1\n",
        "    elif(root.right and root.val == root.right.val - 1):\n",
        "      c+=1\n",
        "    return c + consecutiveNodes(root.left) + consecutiveNodes(root.right)"
      ]
    },
    {
      "cell_type": "code",
      "execution_count": null,
      "metadata": {
        "colab": {
          "base_uri": "https://localhost:8080/"
        },
        "id": "uDQw2Xbs4tyn",
        "outputId": "d3c8ad8b-ddcc-4bfa-a32b-e3ac4dced861"
      },
      "outputs": [
        {
          "output_type": "stream",
          "name": "stdout",
          "text": [
            "6\n"
          ]
        }
      ],
      "source": [
        "# Execute this codeblock to verify your results\n",
        "\n",
        "if __name__ == '__main__':\n",
        "    root = Node(16)\n",
        "    root.left = Node(17)\n",
        "    root.right = Node(30)\n",
        "    root.left.left = Node(18)\n",
        "    root.left.right = Node(25)\n",
        "    root.right.left = Node(87)\n",
        "    root.right.right = Node(31)\n",
        "    root.left.left.left = Node(45)\n",
        "    root.left.left.right = Node(19)\n",
        "    root.left.right.left = Node(26)\n",
        "    root.left.right.right = Node(90)\n",
        "    root.right.left.left = Node(76)\n",
        "    root.right.left.right = Node(66)\n",
        "    root.right.right.left = Node(27)\n",
        "    root.right.right.right = Node(32)\n",
        "\n",
        "    print(consecutiveNodes(root))"
      ]
    },
    {
      "cell_type": "markdown",
      "metadata": {
        "id": "EPHg0SPNGhGU"
      },
      "source": [
        "# **Reverse Level Order Traversal**\n",
        "\n",
        "Given the root of a Binary tree, return the Reverse Level Order Traversal i.e. starting from bottommost level, traverse from left to right nodes and move up till you reach the root.\n",
        "\n",
        "\n",
        "Example :\n",
        "\n",
        "\n",
        "    Input:\n",
        "\n",
        "         4\n",
        "        / \\\n",
        "       8   71\n",
        "          /  \\\n",
        "         96   34\n",
        "\n",
        "\n",
        "    Output: [96, 34, 8, 71, 4]\n",
        "\n",
        "    Explanation: Level 3 -> 96, 34. Level 2 -> 8, 71 and Level 1 -> 4\n",
        "    So, the overall reverse level order traversal is [96, 34, 8, 71, 4]"
      ]
    },
    {
      "cell_type": "code",
      "source": [
        "# Reverse Level Order Traversal\n",
        "\n",
        "# Comment out pass and write your code here\n",
        "def reverseLevelOrder(root):\n",
        "    myList = []\n",
        "    queue = [root]\n",
        "    while len(queue) != 0:\n",
        "      temp = queue.pop(0)\n",
        "      myList.append(temp.val)\n",
        "      if(temp.right != None):\n",
        "        queue.append(temp.right)\n",
        "      if(temp.left != None):\n",
        "        queue.append(temp.left)\n",
        "    return myList[::-1]"
      ],
      "metadata": {
        "id": "_8fBZC-F2lAx"
      },
      "execution_count": null,
      "outputs": []
    },
    {
      "cell_type": "code",
      "source": [
        "# Execute this codeblock to verify your results\n",
        "\n",
        "if __name__ == '__main__':\n",
        "    root = Node(16)\n",
        "    root.left = Node(17)\n",
        "    root.right = Node(30)\n",
        "    root.left.left = Node(18)\n",
        "    root.left.right = Node(25)\n",
        "    root.right.left = Node(87)\n",
        "    root.right.right = Node(31)\n",
        "    root.left.left.left = Node(45)\n",
        "    root.left.left.right = Node(19)\n",
        "    root.left.right.left = Node(26)\n",
        "    root.left.right.right = Node(90)\n",
        "    root.right.left.left = Node(76)\n",
        "    root.right.left.right = Node(66)\n",
        "    root.right.right.left = Node(27)\n",
        "    root.right.right.right = Node(32)\n",
        "\n",
        "    print(reverseLevelOrder(root))"
      ],
      "metadata": {
        "colab": {
          "base_uri": "https://localhost:8080/"
        },
        "id": "iuE8OO7xpxtU",
        "outputId": "e97fa446-b4d5-4df3-c837-d40325196a5e"
      },
      "execution_count": null,
      "outputs": [
        {
          "output_type": "stream",
          "name": "stdout",
          "text": [
            "[45, 19, 26, 90, 76, 66, 27, 32, 18, 25, 87, 31, 17, 30, 16]\n"
          ]
        }
      ]
    },
    {
      "cell_type": "code",
      "source": [],
      "metadata": {
        "id": "_pCuEs_gZDZY"
      },
      "execution_count": null,
      "outputs": []
    }
  ],
  "metadata": {
    "colab": {
      "provenance": []
    },
    "kernelspec": {
      "display_name": "Python 3",
      "name": "python3"
    },
    "language_info": {
      "name": "python"
    }
  },
  "nbformat": 4,
  "nbformat_minor": 0
}