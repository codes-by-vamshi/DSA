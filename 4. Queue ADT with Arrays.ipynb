{
  "nbformat": 4,
  "nbformat_minor": 0,
  "metadata": {
    "colab": {
      "provenance": []
    },
    "kernelspec": {
      "name": "python3",
      "display_name": "Python 3"
    },
    "language_info": {
      "name": "python"
    }
  },
  "cells": [
    {
      "cell_type": "code",
      "execution_count": null,
      "metadata": {
        "id": "whqrgBn-jwMf"
      },
      "outputs": [],
      "source": [
        "import numpy as np\n",
        "\n",
        "class QueueUsingArrays:\n",
        "    def __init__(self, initial_capacity):\n",
        "        # your code here\n",
        "        self.queue = np.empty(initial_capacity, dtype=object)\n",
        "        self.head = 0\n",
        "        self.tail = 0\n",
        "\n",
        "    # Adding an element happens at the rear of the array because it follows FIFO\n",
        "    def enqueue(self, data):\n",
        "        # your code here\n",
        "        if(self.tail == self.queue.size):\n",
        "          self.queue = np.concatenate((self.queue, np.empty(100, dtype=object)),axis=0)\n",
        "        self.queue[self.tail] = data\n",
        "        self.tail+=1\n",
        "\n",
        "    # Function to delete an element from the front of the queue\n",
        "    def dequeue(self):\n",
        "        # your code here\n",
        "        if(self.head == self.tail):\n",
        "          return None\n",
        "        val = self.queue[self.head]\n",
        "        self.head+=1\n",
        "        return val\n",
        "\n",
        "\n",
        "    # Function to check if the queue is empty or not\n",
        "    def isEmpty(self):\n",
        "        # your code here\n",
        "        if(self.head == self.tail):\n",
        "          return True\n",
        "        return False\n",
        "\n",
        "\n",
        "    # Function to check if the queue is full or not\n",
        "    def isFull(self):\n",
        "        # your code here\n",
        "        if(1+(self.tail - self.head) == self.queue.size):\n",
        "          return True\n",
        "        return False\n",
        "\n",
        "\n",
        "    # Return front of queue\n",
        "    def peek(self):\n",
        "        # your code here\n",
        "        if(self.isEmpty()):\n",
        "          return None\n",
        "        return self.queue[self.head]\n",
        "\n",
        "\n",
        "    # returns the size of the queue\n",
        "    def size(self):\n",
        "        # your code here\n",
        "        return self.tail - self.head\n",
        "\n"
      ]
    },
    {
      "cell_type": "code",
      "source": [
        "a = QueueUsingArrays(0)\n",
        "a.isEmpty()"
      ],
      "metadata": {
        "colab": {
          "base_uri": "https://localhost:8080/"
        },
        "id": "b_3NUeuZkZ3y",
        "outputId": "c2cc2434-9a11-446b-ef2e-921c9a0706e5"
      },
      "execution_count": null,
      "outputs": [
        {
          "output_type": "execute_result",
          "data": {
            "text/plain": [
              "True"
            ]
          },
          "metadata": {},
          "execution_count": 42
        }
      ]
    },
    {
      "cell_type": "code",
      "source": [
        "a.isFull()"
      ],
      "metadata": {
        "colab": {
          "base_uri": "https://localhost:8080/"
        },
        "id": "ZBZ_vJU7l2rb",
        "outputId": "8f539e86-58a1-4634-ebd4-1247812b0cc8"
      },
      "execution_count": null,
      "outputs": [
        {
          "output_type": "execute_result",
          "data": {
            "text/plain": [
              "True"
            ]
          },
          "metadata": {},
          "execution_count": 43
        }
      ]
    },
    {
      "cell_type": "code",
      "source": [],
      "metadata": {
        "id": "Pc46NcLAl4vy"
      },
      "execution_count": null,
      "outputs": []
    }
  ]
}