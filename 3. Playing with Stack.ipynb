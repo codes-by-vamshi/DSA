{
  "cells": [
    {
      "cell_type": "code",
      "source": [
        "import numpy as np"
      ],
      "metadata": {
        "id": "Viz9UP1FESPF"
      },
      "execution_count": null,
      "outputs": []
    },
    {
      "cell_type": "code",
      "execution_count": null,
      "metadata": {
        "id": "uc4b56Yg3m1Y"
      },
      "outputs": [],
      "source": [
        "# Implementing Stacks using Arrays\n",
        "\n",
        "class ArrayStack:\n",
        "\n",
        "    # Constructor for ArrayStack class\n",
        "    def __init__(self, size):\n",
        "        # your code here\n",
        "        self.stack = np.array([0 for i in range(size)],dtype=object)\n",
        "        self.counter = -1\n",
        "        self.capacity = size\n",
        "\n",
        "    # Push: Adds a new element at the back of the list\n",
        "    def push(self, element):\n",
        "        # your code here\n",
        "        if(self.counter == self.stack.size-1):\n",
        "          newArr = np.concatenate((self.stack,np.array([0])),axis=0)\n",
        "          self.stack = newArr\n",
        "          self.capacity+=1\n",
        "        self.counter+=1\n",
        "        self.stack[self.counter] = element\n",
        "\n",
        "    # Pop: Deletes the element at the last and returns the value of it\n",
        "    def pop(self):\n",
        "        # your code here\n",
        "        if(self.counter == -1):\n",
        "          return None\n",
        "        popElement = self.stack[self.counter]\n",
        "        self.counter-=1\n",
        "        return popElement\n",
        "\n",
        "    # Returns the size of the stack\n",
        "    def size(self):\n",
        "        # your code here\n",
        "        return self.counter+1\n",
        "\n",
        "    # Return the element at the top of the stack without removing it\n",
        "    def top(self):\n",
        "      if(self.counter >= 0):\n",
        "        return self.stack[self.counter]\n",
        "      else:\n",
        "        return None\n",
        "\n",
        "    # Returns true is stack is empty, False if not\n",
        "    def isEmpty(self):\n",
        "        # your code here\n",
        "        if(self.counter == -1):\n",
        "          return True\n",
        "        return False\n",
        "\n",
        "    def printIsEmpty(self):\n",
        "        print(\"\\nStack is Empty\\n\") if self.isEmpty() else print(\"\\nStack is not Empty\\n\")\n",
        "\n",
        "    def printStack(self):\n",
        "        print(self.stack)"
      ]
    },
    {
      "cell_type": "code",
      "source": [
        "class DoublingArrayStack(ArrayStack):\n",
        "\n",
        "    def push(self,element):\n",
        "        if(self.counter == self.stack.size-1):\n",
        "          newArr = np.concatenate((self.stack,np.array([0 for i in range(self.stack.size)], dtype=object)),axis=0)\n",
        "          self.stack= newArr\n",
        "          self.capacity*=2\n",
        "        self.counter+=1\n",
        "        self.stack[self.counter] = element"
      ],
      "metadata": {
        "id": "Hiea31eBtgTR"
      },
      "execution_count": null,
      "outputs": []
    }
  ],
  "metadata": {
    "colab": {
      "provenance": []
    },
    "kernelspec": {
      "display_name": "Python 3",
      "name": "python3"
    },
    "language_info": {
      "name": "python"
    }
  },
  "nbformat": 4,
  "nbformat_minor": 0
}