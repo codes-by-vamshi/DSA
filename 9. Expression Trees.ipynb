{
  "nbformat": 4,
  "nbformat_minor": 0,
  "metadata": {
    "colab": {
      "provenance": []
    },
    "kernelspec": {
      "name": "python3",
      "display_name": "Python 3"
    },
    "language_info": {
      "name": "python"
    }
  },
  "cells": [
    {
      "cell_type": "code",
      "execution_count": null,
      "metadata": {
        "id": "_ANXzyyD0XVe"
      },
      "outputs": [],
      "source": [
        "from collections import deque\n",
        "\n",
        "class Node:\n",
        "    def __init__(self, value):\n",
        "        self.val = value\n",
        "        self.left = None\n",
        "        self.right = None\n",
        "\n",
        "def postfix_from_infix(expression):\n",
        "    # Generating Postfix Expression from infix using stack\n",
        "    stack = deque([])\n",
        "    postfix = ''\n",
        "    precedenceOrder = {')': 0, '+': 1, '-': 1, '*': 2, '/': 2}\n",
        "    for i in expression:\n",
        "      if i not in (list(precedenceOrder.keys())+['(']):\n",
        "        postfix += i\n",
        "      else:\n",
        "        if(i == '('):\n",
        "          stack.append(i)\n",
        "          continue\n",
        "        while len(stack)>0 and stack[-1] != '(' and precedenceOrder[stack[-1]] >= precedenceOrder[i]:\n",
        "          postfix += stack.pop()\n",
        "        if(len(stack)>0 and stack[-1] == '('):\n",
        "          stack.pop()\n",
        "        if (i != ')'):\n",
        "          stack.append(i)\n",
        "    while len(stack) > 0:\n",
        "      postfix += stack.pop()\n",
        "    return postfix\n",
        "\n",
        "\n",
        "def build_expression_tree(expression):\n",
        "    '''\n",
        "    Implement this function to build an expression tree from the infix expression\n",
        "    Return the root of the expression tree created\n",
        "    '''\n",
        "    # Generating Postfix Expression from infix using stack\n",
        "    postfix = postfix_from_infix(expression)\n",
        "\n",
        "    # Generating Expression Tree using the Postfix from previous Process\n",
        "    operators = ['+','-','*','/']\n",
        "    stack = deque([])\n",
        "    for i in postfix:\n",
        "      node = Node(i)\n",
        "      if i in operators:\n",
        "        a = stack.pop()\n",
        "        b = stack.pop()\n",
        "        node.left = b\n",
        "        node.right = a\n",
        "      stack.append(node)\n",
        "    return stack.pop()\n",
        "\n",
        "def evaluate_expression_tree(root):\n",
        "    '''\n",
        "    Implement this function to evaluate the expression tree\n",
        "    Takes the root of the expression tree as the input and returns the result\n",
        "    '''\n",
        "    operators = ['+','-','*','/']\n",
        "    if root.val not in operators:\n",
        "      return int(root.val)\n",
        "    else:\n",
        "      a = evaluate_expression_tree(root.left)\n",
        "      b = evaluate_expression_tree(root.right)\n",
        "      if root.val == '/' and b == 0:\n",
        "        return None\n",
        "      else:\n",
        "        if(root.val == '+'):\n",
        "          return a + b\n",
        "        elif(root.val == '-'):\n",
        "          return a - b\n",
        "        elif(root.val == '*'):\n",
        "          return a * b\n",
        "        else:\n",
        "          return a/b"
      ]
    },
    {
      "cell_type": "code",
      "source": [],
      "metadata": {
        "id": "Cj7dYrSqdWGo"
      },
      "execution_count": null,
      "outputs": []
    },
    {
      "cell_type": "code",
      "source": [
        "if __name__ == \"__main__\":\n",
        "    infix_expression = '5+4*3'\n",
        "    root = build_expression_tree(infix_expression)\n",
        "    print('Root:', root.val)\n",
        "    result = evaluate_expression_tree(root)\n",
        "    print(\"Result:\", result)"
      ],
      "metadata": {
        "colab": {
          "base_uri": "https://localhost:8080/"
        },
        "outputId": "d9bc221c-3753-4715-c6d8-ed4f8467028b",
        "id": "zUin_zzCCOPZ"
      },
      "execution_count": null,
      "outputs": [
        {
          "output_type": "stream",
          "name": "stdout",
          "text": [
            "Root: +\n",
            "Result: 17\n"
          ]
        }
      ]
    }
  ]
}