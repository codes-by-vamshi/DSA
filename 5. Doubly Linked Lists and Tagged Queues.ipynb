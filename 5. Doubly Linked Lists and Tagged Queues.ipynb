{
  "nbformat": 4,
  "nbformat_minor": 0,
  "metadata": {
    "colab": {
      "provenance": []
    },
    "kernelspec": {
      "name": "python3",
      "display_name": "Python 3"
    },
    "language_info": {
      "name": "python"
    }
  },
  "cells": [
    {
      "cell_type": "markdown",
      "source": [
        "Doubly Linked List"
      ],
      "metadata": {
        "id": "u_vGR-7bfd1w"
      }
    },
    {
      "cell_type": "code",
      "execution_count": null,
      "metadata": {
        "id": "a_gQuWOyfXKY"
      },
      "outputs": [],
      "source": [
        "# Implementing a Doubly Linked Lists\n",
        "\n",
        "# Node class for the individual nodes\n",
        "class Node:\n",
        "\n",
        "    # constructor for Node class\n",
        "    def __init__(self, data):\n",
        "        self.data = data\n",
        "        self.next = None\n",
        "        self.prev = None\n",
        "\n",
        "# Manager class to link the nodes and manage the overall list\n",
        "class DoublyLinkedList:\n",
        "\n",
        "    # constructor for LinkedList class\n",
        "    def __init__(self):\n",
        "        self.head = None\n",
        "        self.tail = None\n",
        "        self.count = 0\n",
        "\n",
        "\n",
        "    # Push: Adds a new element at the head of the list\n",
        "    def push(self, data):\n",
        "        # your code here\n",
        "        node = Node(data)\n",
        "        if(self.count == 0):\n",
        "          self.head = node\n",
        "          self.tail = node\n",
        "        else:\n",
        "          self.head.prev = node\n",
        "          node.next = self.head\n",
        "          self.head = node\n",
        "        self.count += 1\n",
        "\n",
        "    # Pop: Deletes the element at the last and returns the value of it\n",
        "    def pop(self):\n",
        "        # your code here\n",
        "        if(self.count == 0):\n",
        "          return None\n",
        "        else:\n",
        "          val = self.head.data\n",
        "          self.head = self.head.next\n",
        "          if(self.head != None):\n",
        "            self.head.prev = None\n",
        "          self.count -= 1\n",
        "          return val\n",
        "\n",
        "\n",
        "    # Returns the size of the linked list\n",
        "    def size(self):\n",
        "        # your code here\n",
        "        return self.count\n",
        "\n",
        "\n",
        "    # Function to insert a node containing data at some specified position between 1 and x\n",
        "    def insert(self, data, position):\n",
        "        # your code here\n",
        "        node = Node(data)\n",
        "        if(position < 1):\n",
        "          return \"Invalid Position\"\n",
        "        if(self.count == 0):\n",
        "          self.head = node\n",
        "          self.tail = node\n",
        "        elif(position > self.count):\n",
        "          self.tail.next = node\n",
        "          node.prev = self.tail\n",
        "          self.tail = node\n",
        "        else:\n",
        "          temp = self.head\n",
        "          count = 1\n",
        "          while count != position:\n",
        "            count+=1\n",
        "            temp = temp.next\n",
        "          if(temp == self.head and temp == self.tail):\n",
        "            self.head = node\n",
        "            node.next = temp\n",
        "            temp.prev = node\n",
        "          elif(temp == self.head):\n",
        "            self.head = node\n",
        "            node.next = temp\n",
        "            temp.prev = node\n",
        "          elif(temp == self.tail):\n",
        "            node.next = temp\n",
        "            node.prev = temp.prev\n",
        "            temp.prev = node\n",
        "            node.prev.next = node\n",
        "          else:\n",
        "            node.next = temp\n",
        "            node.prev = temp.prev\n",
        "            temp.prev = node\n",
        "            node.prev.next = node\n",
        "        self.count += 1\n",
        "\n",
        "\n",
        "    # Function to delete a node at the specified position between 1 and x\n",
        "    def delete(self, position):\n",
        "        # your code here\n",
        "        if(position < 1):\n",
        "          return \"Invalid Position\"\n",
        "        if(self.count == 0):\n",
        "          return None\n",
        "        elif(position >= self.count):\n",
        "          self.tail = self.tail.prev\n",
        "        else:\n",
        "          temp = self.head\n",
        "          count = 1\n",
        "          while count != position:\n",
        "            count+=1\n",
        "            temp = temp.next\n",
        "          if(temp != self.head):\n",
        "            temp.next.prev = temp.prev\n",
        "            temp.prev.next = temp.next\n",
        "          else:\n",
        "            self.head = self.head.next\n",
        "        self.count -= 1\n",
        "\n",
        "    # Return the element at the top of the linked list without removing it\n",
        "    def top(self):\n",
        "        # your code here\n",
        "        if(self.count == 0):\n",
        "          return None\n",
        "        return self.head.data\n",
        "\n",
        "\n",
        "    # Return true is linked list is empty, False if not\n",
        "    def isEmpty(self):\n",
        "        # your code here\n",
        "        return self.count == 0\n",
        "\n",
        "\n",
        "    def printIsEmpty(self):\n",
        "        print(\"\\Linked list is Empty\\n\") if self.isEmpty() else print(\"\\Linked list is not Empty\\n\")\n",
        "\n",
        "\n",
        "    def printList(self):\n",
        "        current = self.head\n",
        "        print(current.prev, end=\" <-> \")\n",
        "        while current:\n",
        "            print(current.data, end=\" <-> \")\n",
        "            current = current.next\n",
        "        print(\"None\")"
      ]
    },
    {
      "cell_type": "code",
      "source": [
        "# Example usage:\n",
        "dll = DoublyLinkedList()\n",
        "dll.push(1)\n",
        "dll.push(2)\n",
        "dll.push(3)\n",
        "dll.printList()  # Output: None <-> 3 <-> 2 <-> 1 <-> None\n",
        "dll.delete(2)\n",
        "dll.printList()  # Output: None <-> 3 <-> 1 <-> None\n",
        "dll.insert(4, 5)\n",
        "dll.printList()  # Output: None <-> 3 <-> 1 <-> 4 <-> None\n",
        "print(\"Size:\", dll.size())  # Output: Size: 3\n",
        "print(\"Top:\", dll.top())    # Output: Top: 3\n",
        "dll.pop()\n",
        "dll.pop()\n",
        "dll.pop()\n",
        "dll.printIsEmpty()  # Output: The list is empty."
      ],
      "metadata": {
        "id": "S3vaiR_dDr1b",
        "colab": {
          "base_uri": "https://localhost:8080/"
        },
        "outputId": "177f6e35-25c6-4a0f-e230-e67e3868dc77"
      },
      "execution_count": null,
      "outputs": [
        {
          "output_type": "stream",
          "name": "stdout",
          "text": [
            "None <-> 3 <-> 2 <-> 1 <-> None\n",
            "None <-> 3 <-> 1 <-> None\n",
            "None <-> 3 <-> 1 <-> 4 <-> None\n",
            "Size: 3\n",
            "Top: 3\n",
            "\\Linked list is Empty\n",
            "\n"
          ]
        }
      ]
    },
    {
      "cell_type": "code",
      "source": [
        "dll = DoublyLinkedList()\n",
        "dll.insert(10,100)\n",
        "dll.printList()"
      ],
      "metadata": {
        "colab": {
          "base_uri": "https://localhost:8080/"
        },
        "id": "wG0eaJUOs_zw",
        "outputId": "bb090343-5eaf-44a3-d410-565db66ba156"
      },
      "execution_count": null,
      "outputs": [
        {
          "output_type": "stream",
          "name": "stdout",
          "text": [
            "None <-> 10 <-> None\n"
          ]
        }
      ]
    },
    {
      "cell_type": "code",
      "source": [
        "dll.insert(7,4)\n",
        "dll.printList()"
      ],
      "metadata": {
        "colab": {
          "base_uri": "https://localhost:8080/"
        },
        "id": "OXoqINjOw70n",
        "outputId": "8daa774b-c255-47be-c498-5394e3da4d00"
      },
      "execution_count": null,
      "outputs": [
        {
          "output_type": "stream",
          "name": "stdout",
          "text": [
            "None <-> 7 <-> 7 <-> 10 <-> 7 <-> 7 <-> None\n"
          ]
        }
      ]
    },
    {
      "cell_type": "code",
      "source": [
        "dll.push(5)"
      ],
      "metadata": {
        "id": "2KofjLrZ3vN8"
      },
      "execution_count": null,
      "outputs": []
    },
    {
      "cell_type": "code",
      "source": [
        "dll.printList()"
      ],
      "metadata": {
        "colab": {
          "base_uri": "https://localhost:8080/"
        },
        "id": "uW7Fhta73zxd",
        "outputId": "d4041245-da48-44e8-9527-75b841ad32fe"
      },
      "execution_count": null,
      "outputs": [
        {
          "output_type": "stream",
          "name": "stdout",
          "text": [
            "None <-> 5 <-> 7 <-> 7 <-> 10 <-> 7 <-> 7 <-> None\n"
          ]
        }
      ]
    },
    {
      "cell_type": "code",
      "source": [
        "dll.pop()"
      ],
      "metadata": {
        "colab": {
          "base_uri": "https://localhost:8080/"
        },
        "id": "YjjV9BSt0Qyd",
        "outputId": "c42aa149-e93a-4175-eaaa-84126f49d063"
      },
      "execution_count": null,
      "outputs": [
        {
          "output_type": "execute_result",
          "data": {
            "text/plain": [
              "5"
            ]
          },
          "metadata": {},
          "execution_count": 10
        }
      ]
    },
    {
      "cell_type": "code",
      "source": [
        "dll.printList()"
      ],
      "metadata": {
        "colab": {
          "base_uri": "https://localhost:8080/"
        },
        "id": "fhfqQ_0w0YEt",
        "outputId": "ec614bfb-9c79-4015-d7a6-462b69e6e15a"
      },
      "execution_count": null,
      "outputs": [
        {
          "output_type": "stream",
          "name": "stdout",
          "text": [
            "None <-> 10 <-> 7 <-> None\n"
          ]
        }
      ]
    },
    {
      "cell_type": "markdown",
      "source": [
        "Queue With Tags"
      ],
      "metadata": {
        "id": "01SX_u56f06l"
      }
    },
    {
      "cell_type": "code",
      "source": [
        "import numpy as np\n",
        "\n",
        "class QueueUsingArrays:\n",
        "    def __init__(self, capacity):\n",
        "        self.capacity = capacity\n",
        "        self.queue = np.empty(self.capacity, dtype=object)\n",
        "        self.front = 0\n",
        "        self.rear = 0\n",
        "        self.tags = {}\n",
        "\n",
        "    def enqueue(self, data, tag):\n",
        "        # your code here\n",
        "        if(self.isFull()):\n",
        "          return None\n",
        "        else:\n",
        "          if(tag not in self.tags.keys()):\n",
        "            self.queue[self.rear] = (data,tag)\n",
        "            self.tags[tag] = self.rear\n",
        "          else:\n",
        "            pos = self.tags[tag]\n",
        "            arr = np.empty(1,dtype=object)\n",
        "            arr[0] = (data,tag)\n",
        "            self.queue = np.concatenate((self.queue[:pos+1],arr,self.queue[pos+1:len(self.queue)-1]), axis = 0)\n",
        "            for i in self.tags.keys():\n",
        "              if(self.tags[i]>=pos):\n",
        "                self.tags[i] += 1\n",
        "          self.rear += 1\n",
        "\n",
        "\n",
        "    def dequeue(self):\n",
        "        # your code here\n",
        "        if(self.isEmpty()):\n",
        "          return None\n",
        "        else:\n",
        "          val = self.queue[0]\n",
        "          arr = np.empty(1,dtype=object)\n",
        "          self.queue = np.concatenate((self.queue[1:],arr),axis=0)\n",
        "          if(0 in self.tags.values()):\n",
        "            ind = list(self.tags.values()).index(0)\n",
        "            del self.tags[list(self.tags.keys())[ind]]\n",
        "          for i in self.tags.keys():\n",
        "            self.tags[i]-=1\n",
        "          self.rear -= 1\n",
        "          return val\n",
        "\n",
        "    def size(self):\n",
        "        # your code here\n",
        "        return self.rear - self.front\n",
        "\n",
        "    def isEmpty(self):\n",
        "        return self.front == self.rear\n",
        "\n",
        "    def isFull(self):\n",
        "        return self.rear == self.capacity\n",
        "\n",
        "    def printIsEmpty(self):\n",
        "        print(\"Queue is Empty\\n\") if self.isEmpty() else print(\"Queue is not Empty\\n\")\n",
        "\n",
        "    def printQueue(self):\n",
        "        # your code here\n",
        "        c = 0\n",
        "        print(\"front\", end=' [')\n",
        "        for key,value in self.tags.items():\n",
        "          for j in range(c,value+1):\n",
        "            if(j == self.rear-1):\n",
        "              print(f\"({self.queue[j][0]}, '{key}')\", end = '] rear')\n",
        "            else:\n",
        "              print(f\"({self.queue[j][0]}, '{key}')\", end = ', ')\n",
        "          c = value + 1\n",
        "\n",
        "\n",
        "    def frontElement(self):\n",
        "        # your code here\n",
        "        return self.queue[0]"
      ],
      "metadata": {
        "id": "9iB4vxaYWy09"
      },
      "execution_count": null,
      "outputs": []
    },
    {
      "cell_type": "code",
      "source": [
        "A = QueueUsingArrays(10)\n",
        "A.enqueue(6, 'A')\n",
        "A.enqueue(5, 'B')\n",
        "A.enqueue(7, 'A')\n",
        "A.printQueue()\n",
        "\n",
        "# Correct Output should look like the following: front [(6, 'A'), (7, 'A'), (5, 'B')] rear"
      ],
      "metadata": {
        "id": "NLHRoMMUh417",
        "colab": {
          "base_uri": "https://localhost:8080/"
        },
        "outputId": "a21d6a6c-3734-4192-f442-dab03784fc5f"
      },
      "execution_count": null,
      "outputs": [
        {
          "output_type": "stream",
          "name": "stdout",
          "text": [
            "front [(6, 'A'), (7, 'A'), (5, 'B')] rear"
          ]
        }
      ]
    },
    {
      "cell_type": "code",
      "source": [
        "A.dequeue()\n",
        "A.tags"
      ],
      "metadata": {
        "colab": {
          "base_uri": "https://localhost:8080/"
        },
        "id": "T4VsEsZZMbaE",
        "outputId": "ca1eccec-52fd-4b66-fbd1-70e466d108b2"
      },
      "execution_count": null,
      "outputs": [
        {
          "output_type": "execute_result",
          "data": {
            "text/plain": [
              "{'A': 0, 'B': 1}"
            ]
          },
          "metadata": {},
          "execution_count": 145
        }
      ]
    },
    {
      "cell_type": "code",
      "source": [
        "A.dequeue()[1]"
      ],
      "metadata": {
        "colab": {
          "base_uri": "https://localhost:8080/",
          "height": 36
        },
        "id": "9ZEMF963-lvy",
        "outputId": "844c9f01-694b-4d76-ee1b-58d6a740e9e2"
      },
      "execution_count": null,
      "outputs": [
        {
          "output_type": "execute_result",
          "data": {
            "text/plain": [
              "'A'"
            ],
            "application/vnd.google.colaboratory.intrinsic+json": {
              "type": "string"
            }
          },
          "metadata": {},
          "execution_count": 146
        }
      ]
    },
    {
      "cell_type": "code",
      "source": [],
      "metadata": {
        "id": "wUstfvdOEd95"
      },
      "execution_count": null,
      "outputs": []
    },
    {
      "cell_type": "code",
      "source": [],
      "metadata": {
        "id": "xW3P_WJ5EsQG"
      },
      "execution_count": null,
      "outputs": []
    }
  ]
}